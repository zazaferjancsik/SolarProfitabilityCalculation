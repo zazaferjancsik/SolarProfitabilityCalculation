{
 "cells": [
  {
   "cell_type": "code",
   "execution_count": 3,
   "metadata": {},
   "outputs": [],
   "source": [
    "import pandas as pd\n",
    "import numpy as np\n",
    "import plotly.express as px\n",
    "import plotly.graph_objects as go\n",
    "import matplotlib.pyplot as plt  \n"
   ]
  },
  {
   "cell_type": "code",
   "execution_count": 31,
   "metadata": {},
   "outputs": [],
   "source": [
    "discount_rate = 0.0541\n",
    "monthly_solar_radiation = [5.9*31, 6.4*28, 7*31, 7*30, 6.8*31, 6.9*30, 7.1*31, 7.2*31, 6.7*30, 6.1*31, 5.6*30, 5.3*31]\n",
    "degradation_rate = 0.00469\n",
    "electricity_tariff = 0.5444\n",
    "feed_in_tariff = electricity_tariff*0.50\n"
   ]
  },
  {
   "cell_type": "code",
   "execution_count": 37,
   "metadata": {},
   "outputs": [
    {
     "name": "stdout",
     "output_type": "stream",
     "text": [
      "[1642.9999999999998, 1680.0, 1891.0, 2010.0, 2232.0, 2201.0, 2070.0, 2108.0, 2100, 2170, 1792.0000000000002, 1829.0]\n"
     ]
    }
   ],
   "source": [
    "eg = list(i * 10 for i in monthly_solar_radiation)\n",
    "eg.reverse()\n",
    "print((eg))"
   ]
  },
  {
   "cell_type": "code",
   "execution_count": null,
   "metadata": {},
   "outputs": [],
   "source": [
    "def graph(formula, x_range):  \n",
    "    x = np.array(x_range)  \n",
    "    y = formula(x)  \n",
    "    plt.plot(x, y)  \n",
    "    plt.show() "
   ]
  },
  {
   "cell_type": "code",
   "execution_count": 44,
   "metadata": {},
   "outputs": [],
   "source": [
    "def NPV_formula(kw, ic, d, msr, dr, et, fit, eu):\n",
    "    NPV = -ic\n",
    "    for i in range(25):\n",
    "        yearly_value = 0\n",
    "        monthly_electricity_generated = list(j * 10 * (1-dr*i) for j in msr) \n",
    "        for k in monthly_electricity_generated:\n",
    "            monthly_value = -15*kw\n",
    "            if k > eu:\n",
    "                monthly_value += eu * et\n",
    "                monthly_value += (k-eu)*fit\n",
    "            else:\n",
    "                monthly_value += k*et\n",
    "            yearly_value += monthly_value\n",
    "        NPV+=(yearly_value/(1+d)**(i+1))\n",
    "    return NPV        "
   ]
  },
  {
   "cell_type": "code",
   "execution_count": 39,
   "metadata": {},
   "outputs": [],
   "source": [
    "def SPP_formula(kw, ic, d, msr, dr, et, fit, eu):\n",
    "    NPV = -ic\n",
    "    for i in range(25):\n",
    "        yearly_value = 0\n",
    "        monthly_electricity_generated = list(j * 10 * (1-dr*i) for j in msr) \n",
    "        for k in monthly_electricity_generated:\n",
    "            monthly_value = -15*kw\n",
    "            if k > eu:\n",
    "                monthly_value += eu * et\n",
    "                monthly_value += (k-eu)*fit\n",
    "            else:\n",
    "                monthly_value += k*et\n",
    "            yearly_value += monthly_value\n",
    "        NPV+=(yearly_value/(1+d)**(i+1))\n",
    "        if NPV > 0:\n",
    "            SPP = i+1\n",
    "            break\n",
    "    monthly_electricity_generated.reverse()\n",
    "    month_counter = 1\n",
    "    for k in monthly_electricity_generated:\n",
    "        month_counter -= 0.0833\n",
    "        monthly_value = -15*kw\n",
    "        if k > eu:\n",
    "            monthly_value += eu * et\n",
    "            monthly_value += (k-eu)*fit\n",
    "        else:\n",
    "            monthly_value += k*et\n",
    "        NPV -= monthly_value/(1+d)**(i+1)\n",
    "        if NPV < 0:\n",
    "            SPP +=month_counter\n",
    "            break\n",
    "    return SPP"
   ]
  },
  {
   "cell_type": "code",
   "execution_count": 50,
   "metadata": {},
   "outputs": [],
   "source": [
    "def IRR_formula(kw, ic, msr, dr, et, fit, eu):\n",
    "    lower_bound = 0.0\n",
    "    upper_bound = 1.0 \n",
    "    tolerance = 1e-4\n",
    "    max_iterations = 1000\n",
    "    iteration = 0\n",
    "\n",
    "    while iteration < max_iterations:\n",
    "        mid_rate = (lower_bound + upper_bound) / 2\n",
    "        npv = NPV_formula(kw, ic, mid_rate, msr, dr, et, fit, eu)\n",
    "\n",
    "        if abs(npv) < tolerance: \n",
    "            return mid_rate\n",
    "        elif npv > 0:\n",
    "            lower_bound = mid_rate  \n",
    "        else:\n",
    "            upper_bound = mid_rate  \n",
    "        \n",
    "        iteration += 1\n",
    "\n",
    "    return None"
   ]
  },
  {
   "cell_type": "code",
   "execution_count": 54,
   "metadata": {},
   "outputs": [],
   "source": [
    "def LCOE_formula(kw, ic, d, msr, dr, et, fit, eu):\n",
    "    NPV_costs = ic\n",
    "    NPV_energy = 0\n",
    "    for i in range(25):\n",
    "        NPV_costs += 12*15*kw/(1+d)**(i+1)\n",
    "        NPV_energy += (sum(msr) * 10 * (1 - dr*i)) / (1+d)**(i+1)\n",
    "    return NPV_costs/NPV_energy\n",
    "    "
   ]
  },
  {
   "cell_type": "code",
   "execution_count": 61,
   "metadata": {},
   "outputs": [
    {
     "name": "stdout",
     "output_type": "stream",
     "text": [
      "40.25%\n"
     ]
    }
   ],
   "source": [
    "print(f\"{round(IRR_formula(10, 19500, monthly_solar_radiation, degradation_rate, electricity_tariff, feed_in_tariff, 1000),4)*100}%\")"
   ]
  },
  {
   "cell_type": "code",
   "execution_count": 64,
   "metadata": {},
   "outputs": [
    {
     "name": "stdout",
     "output_type": "stream",
     "text": [
      "3.67 years\n"
     ]
    }
   ],
   "source": [
    "print(f\"{round(SPP_formula(10, 19500, discount_rate, monthly_solar_radiation, degradation_rate, electricity_tariff, feed_in_tariff, 1000), 2)} years\")\n"
   ]
  },
  {
   "cell_type": "code",
   "execution_count": 66,
   "metadata": {},
   "outputs": [
    {
     "name": "stdout",
     "output_type": "stream",
     "text": [
      "0.14 AWG/kWh\n"
     ]
    }
   ],
   "source": [
    "print(f\"{round(LCOE_formula(10, 19500, discount_rate, monthly_solar_radiation, degradation_rate, electricity_tariff, feed_in_tariff, 1000), 2)} AWG/kWh\")"
   ]
  },
  {
   "cell_type": "code",
   "execution_count": 68,
   "metadata": {},
   "outputs": [
    {
     "name": "stdout",
     "output_type": "stream",
     "text": [
      "83913.4 AWG\n"
     ]
    }
   ],
   "source": [
    "print(f\"{round(NPV_formula(10, 19500, discount_rate, monthly_solar_radiation, degradation_rate, electricity_tariff, feed_in_tariff, 1000), 2)} AWG\")"
   ]
  }
 ],
 "metadata": {
  "kernelspec": {
   "display_name": "Python 3",
   "language": "python",
   "name": "python3"
  },
  "language_info": {
   "codemirror_mode": {
    "name": "ipython",
    "version": 3
   },
   "file_extension": ".py",
   "mimetype": "text/x-python",
   "name": "python",
   "nbconvert_exporter": "python",
   "pygments_lexer": "ipython3",
   "version": "3.12.7"
  }
 },
 "nbformat": 4,
 "nbformat_minor": 2
}
